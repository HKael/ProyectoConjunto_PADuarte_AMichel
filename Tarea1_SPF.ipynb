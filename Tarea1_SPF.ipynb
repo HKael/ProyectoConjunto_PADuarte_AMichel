{
 "cells": [
  {
   "cell_type": "markdown",
   "metadata": {},
   "source": [
    "<img style=\"float: left; margin: 30px 15px 15px 15px;\" src=\"https://pngimage.net/wp-content/uploads/2018/06/logo-iteso-png-5.png\" width=\"300\" height=\"500\" /> \n",
    "    \n",
    "    \n",
    "### <font color='navy'> Simulación de procesos financieros. \n",
    "\n",
    "**Nombres:** Michel Marrón y Andrés Duarte.\n",
    "\n",
    "**Fecha:** 01 de septiembre del 2020.\n",
    "\n",
    "**Expediente** : 719889 y 718957.\n",
    "**Profesor:** Oscar David Jaramillo Zuluaga.\n",
    "\n",
    "# # Tarea 1: Clase 2"
   ]
  },
  {
   "cell_type": "markdown",
   "metadata": {},
   "source": [
    "## Enunciado de tarea (Transcibirlo)\n",
    "\n",
    "Este archivo contiene las pautas necesarias para crear el archivo conjunto en Github, usando los notebooks de Jupyter:\n",
    "\n",
    "1.  El archivo debe realizarse en parejas y sólo uno de los dos debe crear en su cuenta de *\"Github\"* un repositorio con el nombre **ProyectoConjunto\\_APELLIDO1\\_APELLIDO2**, a esta persona la llamaremos (ESTUDIANTE 1 ). El APELLIDO se debe de escribir (Iniciales del nombre y primer apellido), por ejemplo si yo creara el archivo lo debería de nombrar *ProyectoConjunto\\_ODJaramillo*. \n",
    "1.  Posteriormente, desde la cuenta del (ESTUDIANTE 2) 'aquel que no creó el repositorio anterior' ingresar al perfil del ESTUDIANTE 1 y en el repositorio creado en el paso 1, realizar un \"fork\" de este repositorio en su perfil, y además realizar los pasos en Gitkraken para hacer dicho repositorio \"Remoto (REMOTE)\" VER DICHO PROCEDIMIENTO EN LA CLASE **Clase2\\_GitTurorial2**.\n",
    "1.  Luego de realizados los pasos 1 y 2, el ESTUDIANTE 1 y ESTUDIANTE 2, desde su computador realizan un *clone* del repositorio creado en el numeral 1 en la carpeta que cada quién haya asignado para el curso en su PC. \n",
    "1.  Luego desde Jupyter el ESTUDIANTE 1, crear un nuevo ``notebook`` en el repositorio del paso 3. \n",
    "1.  En este nuevo notebook el ESTUDIANTE 1 y ESTUDIANTE 2, deben realizar una presentación describiendo sus expectativas del curso y la transcipción de la Figura 1 y Figura 2 respectivamente, haciendo uso de la sintaxis Markdown. Recuerden definir unas celdas donde cada usuario modificará el cuaderno de python para evitar futuros conflictos. \n",
    "\n",
    "**RECOMENDACIÓN:ANTES DE EMPEZAR A REALIZAR MUCHAS MODIFICACIONES DEL NOTEBOOK PRIMERO REALICEN CAMBIOS PEQUEÑOS EN EL ARCHIVO EN CONJUNTO Y VERIFIQUEN SI TANTO EL ``ESTUDIANTE 1`` COMO EL ``ESTUDIANTE 2``  RECIBEN LAS ACTUALIZACIONES QUE REALIZAN CADA UNO EN EL PROYECTO PARA VERIFICAR QUE EL REMOTE ESTUVO BIEN CONFIGURADO.**\n",
    ">Les recomiendo ver los siguientes enlaces para ver distintas funciones para escribir en markdown.\n",
    ">    - [Creador de tablas online](https://www.tablesgenerator.com/markdown_tables)\n",
    ">    - [Sintáxis markdown](https://joplinapp.org/markdown/)\n",
    "\n",
    "6. Cuando ya se encuentre el proyecto conjunto con la información del ESTUDIANTE 1 y ESTUDIANTE 2, el ``ESTUDIANTE 2`` el que no fue el creador del repositorio en github, debe de realizar un `pull request` con las modificaciones realizadas a el `ESTUDIANTE 1` para que éste realice un merge a la rama `master`, con las moficaciones propuestas por el `ESTUDIANTE 2`, TAL Y CÓMO SE REALIZÓ EN CLASE. (Recuerden que los pull request se generan en *Gitkraken* y se administran los comentarios o cambios propuestos por su compañero desde *Github* ''**ver Clase1\\_GitTurorial** para aclaración de dudas'' donde se explica el crear *branch y pull request*)"
   ]
  },
  {
   "cell_type": "markdown",
   "metadata": {},
   "source": [
    "### Ejercicio 1: Parte del Estudiante 1 (Andrés Duarte)"
   ]
  },
  {
   "cell_type": "markdown",
   "metadata": {},
   "source": [
    " # <Strong> <font color=green>  Mis expectativas del curso de Simulación de Procesos Financieros <Strong/>\n",
    "- ## Espero salir con una preparación de Python bastante fuerte, lo suficiente como para manejar al pie de la letra las instrucciones de proyectos y trabajos de simulación. \n",
    "- ## Mejorar mis habilidades de trabajo en equipo con las herramientas a mi alcance, como github y gitkraken, ya que el control de versiones hace más eficientes los proyectos y colaboraciones en una empresa.\n",
    "- ## Aprender a interpretar y utilizar los datos que me arroje simular procesos financieros a lo largo de todo el curso, con el fin de aplicarlo más adelante en mi vida laboral."
   ]
  },
  {
   "cell_type": "markdown",
   "metadata": {},
   "source": [
    "# Transcripción de la Figura I"
   ]
  },
  {
   "cell_type": "markdown",
   "metadata": {},
   "source": [
    "| *i* | *x*    | *f(x)*   |\n",
    "|---|------|--------|\n",
    "| 0 | -1   | 0.3678 |\n",
    "| <font color=red>1 | <font color=red>-0.5 |<font color=red> 0.7788 |\n",
    "| <font color=blue>2 | <font color=blue>0    |<font color=blue> 1      |\n",
    "| <font color=red>3 | <font color=red>0.5  | <font color=red>0.7788 |\n",
    "| 4 | 1    | 0.3678 |\n",
    "    \n",
    "<p style=\"text-align: center;\"> Cuadro 1: Tabla de Valores de <em>f(x)<em/> \n",
    "    \n",
    "    $$\\color{lightseagreen}{\"texto\"}$$\n",
    "   $$\\int_{-1}^{1}e^{-x^{2}}dx\\approx \\frac{0,5}{3}[f(-1)+f(1)+4(f(-0,5)+f(0,5))+2f(0)]$$\n",
    "   $$\\approx\\frac{0,5}{3}[0,3678+0,3678+4(0,7788+0,7788)+2\\cdot 1] \\approx 1,4943$$\n",
    "\n",
    "\n",
    "\"$$\\\\int_{-1}^{1} e^{-x^{2}} dx \\\\approx \\\\frac{0,5}{3} [f(-1)+f(1)+4(\\\\color{red}{f(-0.5)+f(0.5)})+2\\\\color{blue}{f(0)}] \\\\approx \\\\frac{0,5}{3} [0.3678 + 0.3678 +4(\\\\color{red}{0.7788+0.7788}))+2*\\\\color{blue}{1}] \\\\approx 1.4943$$\\n\",\n",
    "    \"\\n\","
   ]
  },
  {
   "cell_type": "markdown",
   "metadata": {},
   "source": [
    "### Ejercicio 2: Parte del Estudiante 2"
   ]
  },
  {
   "cell_type": "code",
   "execution_count": null,
   "metadata": {},
   "outputs": [],
   "source": [
    "# Código de solución \n",
    ".\n",
    ".\n",
    ".\n",
    ".\n"
   ]
  },
  {
   "cell_type": "markdown",
   "metadata": {},
   "source": [
    "### Respuesta planteada en el ejercicio usando (markdown)\n",
    " La respuesta es ........."
   ]
  }
 ],
 "metadata": {
  "kernelspec": {
   "display_name": "Python 3",
   "language": "python",
   "name": "python3"
  },
  "language_info": {
   "codemirror_mode": {
    "name": "ipython",
    "version": 3
   },
   "file_extension": ".py",
   "mimetype": "text/x-python",
   "name": "python",
   "nbconvert_exporter": "python",
   "pygments_lexer": "ipython3",
   "version": "3.7.1"
  }
 },
 "nbformat": 4,
 "nbformat_minor": 2
}
