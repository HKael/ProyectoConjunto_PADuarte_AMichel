{
 "cells": [
  {
   "cell_type": "markdown",
   "metadata": {},
   "source": [
    "<img style=\"float: left; margin: 30px 15px 15px 15px;\" src=\"https://pngimage.net/wp-content/uploads/2018/06/logo-iteso-png-5.png\" width=\"300\" height=\"500\" /> \n",
    "    \n",
    "    \n",
    "### <font color='navy'> Simulación de procesos financieros. \n",
    "\n",
    "**Nombres:** Michel Marrón y Andrés Duarte.\n",
    "\n",
    "**Fecha:** 01 de septiembre del 2020.\n",
    "\n",
    "**Expediente** : 719889 y 718957.\n",
    "    \n",
    "**Profesor:** Oscar David Jaramillo Zuluaga.\n",
    "\n",
    "# # Tarea 1: Clase 2"
   ]
  },
  {
   "cell_type": "markdown",
   "metadata": {},
   "source": [
    "## Enunciado de tarea (Transcibirlo)\n",
    "\n",
    "Este archivo contiene las pautas necesarias para crear el archivo conjunto en Github, usando los notebooks de Jupyter:\n",
    "\n",
    "1.  El archivo debe realizarse en parejas y sólo uno de los dos debe crear en su cuenta de *\"Github\"* un repositorio con el nombre **ProyectoConjunto\\_APELLIDO1\\_APELLIDO2**, a esta persona la llamaremos (ESTUDIANTE 1 ). El APELLIDO se debe de escribir (Iniciales del nombre y primer apellido), por ejemplo si yo creara el archivo lo debería de nombrar *ProyectoConjunto\\_ODJaramillo*. \n",
    "1.  Posteriormente, desde la cuenta del (ESTUDIANTE 2) 'aquel que no creó el repositorio anterior' ingresar al perfil del ESTUDIANTE 1 y en el repositorio creado en el paso 1, realizar un \"fork\" de este repositorio en su perfil, y además realizar los pasos en Gitkraken para hacer dicho repositorio \"Remoto (REMOTE)\" VER DICHO PROCEDIMIENTO EN LA CLASE **Clase2\\_GitTurorial2**.\n",
    "1.  Luego de realizados los pasos 1 y 2, el ESTUDIANTE 1 y ESTUDIANTE 2, desde su computador realizan un *clone* del repositorio creado en el numeral 1 en la carpeta que cada quién haya asignado para el curso en su PC. \n",
    "1.  Luego desde Jupyter el ESTUDIANTE 1, crear un nuevo ``notebook`` en el repositorio del paso 3. \n",
    "1.  En este nuevo notebook el ESTUDIANTE 1 y ESTUDIANTE 2, deben realizar una presentación describiendo sus expectativas del curso y la transcipción de la Figura 1 y Figura 2 respectivamente, haciendo uso de la sintaxis Markdown. Recuerden definir unas celdas donde cada usuario modificará el cuaderno de python para evitar futuros conflictos. \n",
    "\n",
    "**RECOMENDACIÓN:ANTES DE EMPEZAR A REALIZAR MUCHAS MODIFICACIONES DEL NOTEBOOK PRIMERO REALICEN CAMBIOS PEQUEÑOS EN EL ARCHIVO EN CONJUNTO Y VERIFIQUEN SI TANTO EL ``ESTUDIANTE 1`` COMO EL ``ESTUDIANTE 2``  RECIBEN LAS ACTUALIZACIONES QUE REALIZAN CADA UNO EN EL PROYECTO PARA VERIFICAR QUE EL REMOTE ESTUVO BIEN CONFIGURADO.**\n",
    ">Les recomiendo ver los siguientes enlaces para ver distintas funciones para escribir en markdown.\n",
    ">    - [Creador de tablas online](https://www.tablesgenerator.com/markdown_tables)\n",
    ">    - [Sintáxis markdown](https://joplinapp.org/markdown/)\n",
    "\n",
    "6. Cuando ya se encuentre el proyecto conjunto con la información del ESTUDIANTE 1 y ESTUDIANTE 2, el ``ESTUDIANTE 2`` el que no fue el creador del repositorio en github, debe de realizar un `pull request` con las modificaciones realizadas a el `ESTUDIANTE 1` para que éste realice un merge a la rama `master`, con las moficaciones propuestas por el `ESTUDIANTE 2`, TAL Y CÓMO SE REALIZÓ EN CLASE. (Recuerden que los pull request se generan en *Gitkraken* y se administran los comentarios o cambios propuestos por su compañero desde *Github* ''**ver Clase1\\_GitTurorial** para aclaración de dudas'' donde se explica el crear *branch y pull request*)"
   ]
  },
  {
   "cell_type": "markdown",
   "metadata": {},
   "source": [
    "### Ejercicio 1: Parte del Estudiante 1 (Andrés Duarte)"
   ]
  },
  {
   "cell_type": "markdown",
   "metadata": {},
   "source": [
    " # <Strong> <font color=green>  Mis expectativas del curso de Simulación de Procesos Financieros <Strong/>\n",
    "- ## Espero salir con una preparación de Python bastante fuerte, lo suficiente como para manejar al pie de la letra las instrucciones de proyectos y trabajos de simulación. \n",
    "- ## Mejorar mis habilidades de trabajo en equipo con las herramientas a mi alcance, como github y gitkraken, ya que el control de versiones hace más eficientes los proyectos y colaboraciones en una empresa.\n",
    "- ## Aprender a interpretar y utilizar los datos que me arroje simular procesos financieros a lo largo de todo el curso, con el fin de aplicarlo más adelante en mi vida laboral."
   ]
  },
  {
   "cell_type": "markdown",
   "metadata": {},
   "source": [
    "# Transcripción de la Figura I"
   ]
  },
  {
   "cell_type": "markdown",
   "metadata": {},
   "source": [
    "| *i* | *x*    | *f(x)*   |\n",
    "|---|------|--------|\n",
    "| 0 | -1   | 0.3678 |\n",
    "| <font color=red>1 | <font color=red>-0.5 |<font color=red> 0.7788 |\n",
    "| <font color=blue>2 | <font color=blue>0    |<font color=blue> 1      |\n",
    "| <font color=red>3 | <font color=red>0.5  | <font color=red>0.7788 |\n",
    "| 4 | 1    | 0.3678 |\n",
    "    \n",
    "<p style=\"text-align: center;\"> Cuadro 1: Tabla de Valores de <em>f(x)<em/> \n",
    "    \n",
    "   $$\\int_{-1}^{1}e^{-x^{2}}dx\\approx \\frac{0,5}{3}[f(-1)+f(1)+4(\\color{red}{\\text{f(-0,5)+f(0,5)}})+2\\cdot \\color{blue}{\\text{f(0)}}]$$\n",
    "   $$\\approx\\frac{0,5}{3}[0,3678+0,3678+4(\\color{red}{\\text{0,7788}}+\\color{red}{\\text{0,7788}})+2\\cdot \\color{blue}{\\text{1}}] \\approx 1,4943$$\n",
    "\n",
    "<p style=\"text-align: center;\"> A modo de verificación, se calculará por software, el valor del área para *n* = 100, un valor mucho más elevado que el que se utilizó anteriormente. Si lo calculado previamente es correcto, se esperaría que sea próximo al valor a continuación para ser una buena aproximación\n",
    "     $$\\int_{-1}^{1}e^{-x^{2}}dx\\approx 1.4936$$"
   ]
  },
  {
   "cell_type": "markdown",
   "metadata": {},
   "source": [
    "### Ejercicio 2: Parte del Estudiante 2"
   ]
  },
  {
   "cell_type": "markdown",
   "metadata": {},
   "source": [
    "|       $i$         |  1  |  2  |  3  |  4  | 5 | 6 |  7 |\n",
    "|---------------- |-----|-----|-----|-----|---|---|----|\n",
    "|    $E_i(V)$   |  12 |  10 |  24 |  12 | - | - |  - |\n",
    "| $r_i(\\Omega)$ | 0.1 | 0.5 | 0.2 | 0.5 | - | - |  - |\n",
    "| $R_i(\\Omega)$ |  25 |  40 |  16 |  20 | 9 | 4 | 20 |\n"
   ]
  },
  {
   "cell_type": "markdown",
   "metadata": {},
   "source": [
    "&nbsp;&nbsp; $\\color{lightseagreen}{\\text{Kemna y Vost (1990)}}$ muestran que las opciones asiáticas con media geométrica continua se pueden valuar con el mismo enfoque de las opciones *plain vanilla*; solo se deben de cambiar los parámetros de volatilidad $\\sigma$ por $\\sigma_a$, y el costo de acarreo $b$ por $b_A$.\n",
    "\n",
    "&nbsp;&nbsp; De acuerdo con Kemna y Vorst, las fórmulas para valuar una opción de compra y una opción de venta son:\n",
    "\n",
    "&nbsp;&nbsp;&nbsp;&nbsp;&nbsp;&nbsp;&nbsp;&nbsp; $c \\approx S_t e^{(b_A-r)(T-t)} \\Phi (d_1) - Ke^{-r(T-t)} \\Phi (d_2)$  <p style='text-align: right;'> (3)</p>       \n",
    "\n",
    "&nbsp;&nbsp;&nbsp;&nbsp;&nbsp;&nbsp;&nbsp;&nbsp; $p \\approx Ke^{-r(T-t)} \\Phi (-d_2) - S_t e^{(b_A-r)(T-t)} \\Phi (-d_1)$  \n",
    "\n",
    "con $d_1$ y $d_2$ dados por:\n",
    "\n",
    "&nbsp;&nbsp;&nbsp;&nbsp;&nbsp;&nbsp;&nbsp;&nbsp; \n",
    "$d_1 = \\frac{ln(S_t/K)+(b_A + 1/2 \\sigma ^2 _a) (T-t) } \n",
    "{\\sigma \\sqrt{(T-t)}} $\n",
    "\n",
    "<p style='text-align: right;'> (4)</p>\n",
    "\n",
    "&nbsp;&nbsp;&nbsp;&nbsp;&nbsp;&nbsp;&nbsp;&nbsp; \n",
    "$d_2 = d_1 - \\sigma_a \\sqrt{T-t} $\n",
    "\n",
    "La función $\\phi(d)$ es la función de distribución acumulada de $E$~$N(0,1)$. La volatilidad ajustada es igual a:\n",
    "\n",
    "&nbsp;&nbsp;&nbsp;&nbsp;&nbsp;&nbsp;&nbsp;&nbsp;\n",
    " $\\sigma_a = \\frac{\\sigma}{\\sqrt{3}}$,\n",
    "\n",
    "mientras que el costo de acarreo ajustado es:\n",
    "\n",
    "&nbsp;&nbsp;&nbsp;&nbsp;&nbsp;&nbsp;&nbsp;&nbsp;\n",
    " $b_A = \\frac{1}{2} (v - \\frac{\\sigma^2}{6})$.\n"
   ]
  },
  {
   "cell_type": "markdown",
   "metadata": {},
   "source": [
    "## Expectativas del curso\n",
    "### Alejandro Michel Marrón - 719889\n",
    "\n",
    "&nbsp;&nbsp;&nbsp;&nbsp;&nbsp;&nbsp; Hasta el momento he llevado 5 materias en python, simulación matemática, algoritmos y programación, ciencia de datos e inteligencia artificial, y finalmente portafolios de inversión este mismo verano.\n",
    "\n",
    "&nbsp;&nbsp;&nbsp;&nbsp;&nbsp;&nbsp; La última es en la única en la que verdaderamente siento que aprendí más sobre la utilización de esta herramienta.\n",
    "\n",
    "&nbsp;&nbsp;&nbsp;&nbsp;&nbsp;&nbsp; Mis expectativas de este curso son el aprender a utilizarle más hasta llegar a un punto en el cual me sienta muy cómodo y tratar de ver como es que se trabaja en \"el mundo real\". En cuanto al contenido del curso como tal en ralidad no se exactamente que esperar. Espero hagamos muchos ejercicios que puedan llevarme a una aplicación de lo aprendido en un futuro."
   ]
  }
 ],
 "metadata": {
  "kernelspec": {
   "display_name": "Python 3",
   "language": "python",
   "name": "python3"
  },
  "language_info": {
   "codemirror_mode": {
    "name": "ipython",
    "version": 3
   },
   "file_extension": ".py",
   "mimetype": "text/x-python",
   "name": "python",
   "nbconvert_exporter": "python",
   "pygments_lexer": "ipython3",
   "version": "3.7.1"
  }
 },
 "nbformat": 4,
 "nbformat_minor": 2
}
